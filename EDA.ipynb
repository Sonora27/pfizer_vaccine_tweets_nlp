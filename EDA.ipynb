{
 "cells": [
  {
   "cell_type": "code",
   "execution_count": 1,
   "metadata": {},
   "outputs": [],
   "source": [
    "# Import necessary libraries \n",
    "import pandas as pd\n",
    "from sklearn.model_selection import train_test_split\n",
    "from sklearn.preprocessing import LabelEncoder\n",
    "from sklearn.naive_bayes import MultinomialNB\n",
    "from sklearn.ensemble import RandomForestClassifier\n",
    "from sklearn.metrics import accuracy_score, confusion_matrix\n",
    "from sklearn.feature_extraction.text import TfidfVectorizer\n",
    "from nltk.tokenize import RegexpTokenizer\n",
    "from nltk.stem import PorterStemmer\n",
    "import string\n",
    "import nltk\n",
    "from nltk.corpus import stopwords\n",
    "from nltk import word_tokenize"
   ]
  },
  {
   "cell_type": "code",
   "execution_count": 2,
   "metadata": {},
   "outputs": [],
   "source": [
    "tweets = pd.read_csv(\"vaccination_tweets.csv\")"
   ]
  },
  {
   "cell_type": "code",
   "execution_count": 3,
   "metadata": {},
   "outputs": [],
   "source": [
    "messages = pd.read_csv(\"vaccination_tweets.csv\", usecols = [8,10])"
   ]
  },
  {
   "cell_type": "code",
   "execution_count": 4,
   "metadata": {},
   "outputs": [
    {
     "data": {
      "text/html": [
       "<div>\n",
       "<style scoped>\n",
       "    .dataframe tbody tr th:only-of-type {\n",
       "        vertical-align: middle;\n",
       "    }\n",
       "\n",
       "    .dataframe tbody tr th {\n",
       "        vertical-align: top;\n",
       "    }\n",
       "\n",
       "    .dataframe thead th {\n",
       "        text-align: right;\n",
       "    }\n",
       "</style>\n",
       "<table border=\"1\" class=\"dataframe\">\n",
       "  <thead>\n",
       "    <tr style=\"text-align: right;\">\n",
       "      <th></th>\n",
       "      <th>user_verified</th>\n",
       "      <th>text</th>\n",
       "    </tr>\n",
       "  </thead>\n",
       "  <tbody>\n",
       "    <tr>\n",
       "      <th>0</th>\n",
       "      <td>False</td>\n",
       "      <td>Same folks said daikon paste could treat a cyt...</td>\n",
       "    </tr>\n",
       "    <tr>\n",
       "      <th>1</th>\n",
       "      <td>False</td>\n",
       "      <td>While the world has been on the wrong side of ...</td>\n",
       "    </tr>\n",
       "    <tr>\n",
       "      <th>2</th>\n",
       "      <td>False</td>\n",
       "      <td>#coronavirus #SputnikV #AstraZeneca #PfizerBio...</td>\n",
       "    </tr>\n",
       "    <tr>\n",
       "      <th>3</th>\n",
       "      <td>True</td>\n",
       "      <td>Facts are immutable, Senator, even when you're...</td>\n",
       "    </tr>\n",
       "    <tr>\n",
       "      <th>4</th>\n",
       "      <td>False</td>\n",
       "      <td>Explain to me again why we need a vaccine @Bor...</td>\n",
       "    </tr>\n",
       "    <tr>\n",
       "      <th>...</th>\n",
       "      <td>...</td>\n",
       "      <td>...</td>\n",
       "    </tr>\n",
       "    <tr>\n",
       "      <th>7140</th>\n",
       "      <td>False</td>\n",
       "      <td>The most recent vaccine data from Israel: #Pfi...</td>\n",
       "    </tr>\n",
       "    <tr>\n",
       "      <th>7141</th>\n",
       "      <td>False</td>\n",
       "      <td>So ist es‼️\\n#impfschaden #Impftote #PfizerBio...</td>\n",
       "    </tr>\n",
       "    <tr>\n",
       "      <th>7142</th>\n",
       "      <td>False</td>\n",
       "      <td>One shot down! #CovidVaccine #PfizerBioNTech h...</td>\n",
       "    </tr>\n",
       "    <tr>\n",
       "      <th>7143</th>\n",
       "      <td>False</td>\n",
       "      <td>Stopping #vaccine deliveries to #Azerbaijan is...</td>\n",
       "    </tr>\n",
       "    <tr>\n",
       "      <th>7144</th>\n",
       "      <td>False</td>\n",
       "      <td>#AstraZeneca is safe. Believe the statistics, ...</td>\n",
       "    </tr>\n",
       "  </tbody>\n",
       "</table>\n",
       "<p>7145 rows × 2 columns</p>\n",
       "</div>"
      ],
      "text/plain": [
       "      user_verified                                               text\n",
       "0             False  Same folks said daikon paste could treat a cyt...\n",
       "1             False  While the world has been on the wrong side of ...\n",
       "2             False  #coronavirus #SputnikV #AstraZeneca #PfizerBio...\n",
       "3              True  Facts are immutable, Senator, even when you're...\n",
       "4             False  Explain to me again why we need a vaccine @Bor...\n",
       "...             ...                                                ...\n",
       "7140          False  The most recent vaccine data from Israel: #Pfi...\n",
       "7141          False  So ist es‼️\\n#impfschaden #Impftote #PfizerBio...\n",
       "7142          False  One shot down! #CovidVaccine #PfizerBioNTech h...\n",
       "7143          False  Stopping #vaccine deliveries to #Azerbaijan is...\n",
       "7144          False  #AstraZeneca is safe. Believe the statistics, ...\n",
       "\n",
       "[7145 rows x 2 columns]"
      ]
     },
     "execution_count": 4,
     "metadata": {},
     "output_type": "execute_result"
    }
   ],
   "source": [
    "messages"
   ]
  },
  {
   "cell_type": "code",
   "execution_count": 5,
   "metadata": {},
   "outputs": [],
   "source": [
    "LE = LabelEncoder()\n",
    "messages['target'] = LE.fit_transform(messages[\"user_verified\"])"
   ]
  },
  {
   "cell_type": "code",
   "execution_count": 6,
   "metadata": {},
   "outputs": [],
   "source": [
    "X = messages['text']\n",
    "y = messages['target']"
   ]
  },
  {
   "cell_type": "code",
   "execution_count": 7,
   "metadata": {},
   "outputs": [],
   "source": [
    "X_train, X_test, y_train, y_test = train_test_split(X, y, random_state=1)"
   ]
  },
  {
   "cell_type": "code",
   "execution_count": 8,
   "metadata": {},
   "outputs": [],
   "source": [
    "stopwords_list = stopwords.words('english') + list(string.punctuation)"
   ]
  },
  {
   "cell_type": "code",
   "execution_count": 9,
   "metadata": {},
   "outputs": [],
   "source": [
    "vectorizer = TfidfVectorizer(stop_words = stopwords_list)"
   ]
  },
  {
   "cell_type": "code",
   "execution_count": 10,
   "metadata": {},
   "outputs": [],
   "source": [
    "tf_idf_train = vectorizer.fit_transform(X_train)\n",
    "tf_idf_test = vectorizer.transform(X_test)"
   ]
  },
  {
   "cell_type": "code",
   "execution_count": 11,
   "metadata": {},
   "outputs": [
    {
     "data": {
      "text/plain": [
       "<1787x15196 sparse matrix of type '<class 'numpy.float64'>'\n",
       "\twith 19012 stored elements in Compressed Sparse Row format>"
      ]
     },
     "execution_count": 11,
     "metadata": {},
     "output_type": "execute_result"
    }
   ],
   "source": [
    "tf_idf_test"
   ]
  },
  {
   "cell_type": "code",
   "execution_count": 12,
   "metadata": {},
   "outputs": [
    {
     "data": {
      "text/plain": [
       "'tropical'"
      ]
     },
     "execution_count": 12,
     "metadata": {},
     "output_type": "execute_result"
    }
   ],
   "source": [
    "tf_idf_test_df = pd.DataFrame(tf_idf_test.toarray(), columns=vectorizer.vocabulary_.keys())\n",
    "first_doc = tf_idf_test_df.loc[0]\n",
    "first_doc.idxmax(axis=1)"
   ]
  },
  {
   "cell_type": "code",
   "execution_count": 13,
   "metadata": {},
   "outputs": [
    {
     "data": {
      "text/plain": [
       "0.0"
      ]
     },
     "execution_count": 13,
     "metadata": {},
     "output_type": "execute_result"
    }
   ],
   "source": [
    "first_doc['kill']"
   ]
  },
  {
   "cell_type": "code",
   "execution_count": 14,
   "metadata": {},
   "outputs": [
    {
     "data": {
      "text/html": [
       "<div>\n",
       "<style scoped>\n",
       "    .dataframe tbody tr th:only-of-type {\n",
       "        vertical-align: middle;\n",
       "    }\n",
       "\n",
       "    .dataframe tbody tr th {\n",
       "        vertical-align: top;\n",
       "    }\n",
       "\n",
       "    .dataframe thead th {\n",
       "        text-align: right;\n",
       "    }\n",
       "</style>\n",
       "<table border=\"1\" class=\"dataframe\">\n",
       "  <thead>\n",
       "    <tr style=\"text-align: right;\">\n",
       "      <th></th>\n",
       "      <th>80</th>\n",
       "      <th>amp</th>\n",
       "      <th>81</th>\n",
       "      <th>oldies</th>\n",
       "      <th>2nd</th>\n",
       "      <th>pfizerbiontech</th>\n",
       "      <th>covid19</th>\n",
       "      <th>vaccine</th>\n",
       "      <th>weekend</th>\n",
       "      <th>thanks</th>\n",
       "      <th>...</th>\n",
       "      <th>sleepy</th>\n",
       "      <th>nightsh</th>\n",
       "      <th>2c5lqgydfe</th>\n",
       "      <th>helennewland</th>\n",
       "      <th>rlepedvotj</th>\n",
       "      <th>diminish</th>\n",
       "      <th>9vb1k3vmtv</th>\n",
       "      <th>2scbz6xduw</th>\n",
       "      <th>vqyxdpr38z</th>\n",
       "      <th>l7usgbrxr3</th>\n",
       "    </tr>\n",
       "  </thead>\n",
       "  <tbody>\n",
       "    <tr>\n",
       "      <th>0</th>\n",
       "      <td>0.0</td>\n",
       "      <td>0.231087</td>\n",
       "      <td>0.0</td>\n",
       "      <td>0.0</td>\n",
       "      <td>0.0</td>\n",
       "      <td>0.0</td>\n",
       "      <td>0.0</td>\n",
       "      <td>0.0</td>\n",
       "      <td>0.0</td>\n",
       "      <td>0.0</td>\n",
       "      <td>...</td>\n",
       "      <td>0.0</td>\n",
       "      <td>0.0</td>\n",
       "      <td>0.0</td>\n",
       "      <td>0.0</td>\n",
       "      <td>0.0</td>\n",
       "      <td>0.0</td>\n",
       "      <td>0.0</td>\n",
       "      <td>0.0</td>\n",
       "      <td>0.0</td>\n",
       "      <td>0.0</td>\n",
       "    </tr>\n",
       "    <tr>\n",
       "      <th>1</th>\n",
       "      <td>0.0</td>\n",
       "      <td>0.000000</td>\n",
       "      <td>0.0</td>\n",
       "      <td>0.0</td>\n",
       "      <td>0.0</td>\n",
       "      <td>0.0</td>\n",
       "      <td>0.0</td>\n",
       "      <td>0.0</td>\n",
       "      <td>0.0</td>\n",
       "      <td>0.0</td>\n",
       "      <td>...</td>\n",
       "      <td>0.0</td>\n",
       "      <td>0.0</td>\n",
       "      <td>0.0</td>\n",
       "      <td>0.0</td>\n",
       "      <td>0.0</td>\n",
       "      <td>0.0</td>\n",
       "      <td>0.0</td>\n",
       "      <td>0.0</td>\n",
       "      <td>0.0</td>\n",
       "      <td>0.0</td>\n",
       "    </tr>\n",
       "    <tr>\n",
       "      <th>2</th>\n",
       "      <td>0.0</td>\n",
       "      <td>0.000000</td>\n",
       "      <td>0.0</td>\n",
       "      <td>0.0</td>\n",
       "      <td>0.0</td>\n",
       "      <td>0.0</td>\n",
       "      <td>0.0</td>\n",
       "      <td>0.0</td>\n",
       "      <td>0.0</td>\n",
       "      <td>0.0</td>\n",
       "      <td>...</td>\n",
       "      <td>0.0</td>\n",
       "      <td>0.0</td>\n",
       "      <td>0.0</td>\n",
       "      <td>0.0</td>\n",
       "      <td>0.0</td>\n",
       "      <td>0.0</td>\n",
       "      <td>0.0</td>\n",
       "      <td>0.0</td>\n",
       "      <td>0.0</td>\n",
       "      <td>0.0</td>\n",
       "    </tr>\n",
       "    <tr>\n",
       "      <th>3</th>\n",
       "      <td>0.0</td>\n",
       "      <td>0.000000</td>\n",
       "      <td>0.0</td>\n",
       "      <td>0.0</td>\n",
       "      <td>0.0</td>\n",
       "      <td>0.0</td>\n",
       "      <td>0.0</td>\n",
       "      <td>0.0</td>\n",
       "      <td>0.0</td>\n",
       "      <td>0.0</td>\n",
       "      <td>...</td>\n",
       "      <td>0.0</td>\n",
       "      <td>0.0</td>\n",
       "      <td>0.0</td>\n",
       "      <td>0.0</td>\n",
       "      <td>0.0</td>\n",
       "      <td>0.0</td>\n",
       "      <td>0.0</td>\n",
       "      <td>0.0</td>\n",
       "      <td>0.0</td>\n",
       "      <td>0.0</td>\n",
       "    </tr>\n",
       "    <tr>\n",
       "      <th>4</th>\n",
       "      <td>0.0</td>\n",
       "      <td>0.000000</td>\n",
       "      <td>0.0</td>\n",
       "      <td>0.0</td>\n",
       "      <td>0.0</td>\n",
       "      <td>0.0</td>\n",
       "      <td>0.0</td>\n",
       "      <td>0.0</td>\n",
       "      <td>0.0</td>\n",
       "      <td>0.0</td>\n",
       "      <td>...</td>\n",
       "      <td>0.0</td>\n",
       "      <td>0.0</td>\n",
       "      <td>0.0</td>\n",
       "      <td>0.0</td>\n",
       "      <td>0.0</td>\n",
       "      <td>0.0</td>\n",
       "      <td>0.0</td>\n",
       "      <td>0.0</td>\n",
       "      <td>0.0</td>\n",
       "      <td>0.0</td>\n",
       "    </tr>\n",
       "    <tr>\n",
       "      <th>...</th>\n",
       "      <td>...</td>\n",
       "      <td>...</td>\n",
       "      <td>...</td>\n",
       "      <td>...</td>\n",
       "      <td>...</td>\n",
       "      <td>...</td>\n",
       "      <td>...</td>\n",
       "      <td>...</td>\n",
       "      <td>...</td>\n",
       "      <td>...</td>\n",
       "      <td>...</td>\n",
       "      <td>...</td>\n",
       "      <td>...</td>\n",
       "      <td>...</td>\n",
       "      <td>...</td>\n",
       "      <td>...</td>\n",
       "      <td>...</td>\n",
       "      <td>...</td>\n",
       "      <td>...</td>\n",
       "      <td>...</td>\n",
       "      <td>...</td>\n",
       "    </tr>\n",
       "    <tr>\n",
       "      <th>1782</th>\n",
       "      <td>0.0</td>\n",
       "      <td>0.000000</td>\n",
       "      <td>0.0</td>\n",
       "      <td>0.0</td>\n",
       "      <td>0.0</td>\n",
       "      <td>0.0</td>\n",
       "      <td>0.0</td>\n",
       "      <td>0.0</td>\n",
       "      <td>0.0</td>\n",
       "      <td>0.0</td>\n",
       "      <td>...</td>\n",
       "      <td>0.0</td>\n",
       "      <td>0.0</td>\n",
       "      <td>0.0</td>\n",
       "      <td>0.0</td>\n",
       "      <td>0.0</td>\n",
       "      <td>0.0</td>\n",
       "      <td>0.0</td>\n",
       "      <td>0.0</td>\n",
       "      <td>0.0</td>\n",
       "      <td>0.0</td>\n",
       "    </tr>\n",
       "    <tr>\n",
       "      <th>1783</th>\n",
       "      <td>0.0</td>\n",
       "      <td>0.000000</td>\n",
       "      <td>0.0</td>\n",
       "      <td>0.0</td>\n",
       "      <td>0.0</td>\n",
       "      <td>0.0</td>\n",
       "      <td>0.0</td>\n",
       "      <td>0.0</td>\n",
       "      <td>0.0</td>\n",
       "      <td>0.0</td>\n",
       "      <td>...</td>\n",
       "      <td>0.0</td>\n",
       "      <td>0.0</td>\n",
       "      <td>0.0</td>\n",
       "      <td>0.0</td>\n",
       "      <td>0.0</td>\n",
       "      <td>0.0</td>\n",
       "      <td>0.0</td>\n",
       "      <td>0.0</td>\n",
       "      <td>0.0</td>\n",
       "      <td>0.0</td>\n",
       "    </tr>\n",
       "    <tr>\n",
       "      <th>1784</th>\n",
       "      <td>0.0</td>\n",
       "      <td>0.000000</td>\n",
       "      <td>0.0</td>\n",
       "      <td>0.0</td>\n",
       "      <td>0.0</td>\n",
       "      <td>0.0</td>\n",
       "      <td>0.0</td>\n",
       "      <td>0.0</td>\n",
       "      <td>0.0</td>\n",
       "      <td>0.0</td>\n",
       "      <td>...</td>\n",
       "      <td>0.0</td>\n",
       "      <td>0.0</td>\n",
       "      <td>0.0</td>\n",
       "      <td>0.0</td>\n",
       "      <td>0.0</td>\n",
       "      <td>0.0</td>\n",
       "      <td>0.0</td>\n",
       "      <td>0.0</td>\n",
       "      <td>0.0</td>\n",
       "      <td>0.0</td>\n",
       "    </tr>\n",
       "    <tr>\n",
       "      <th>1785</th>\n",
       "      <td>0.0</td>\n",
       "      <td>0.000000</td>\n",
       "      <td>0.0</td>\n",
       "      <td>0.0</td>\n",
       "      <td>0.0</td>\n",
       "      <td>0.0</td>\n",
       "      <td>0.0</td>\n",
       "      <td>0.0</td>\n",
       "      <td>0.0</td>\n",
       "      <td>0.0</td>\n",
       "      <td>...</td>\n",
       "      <td>0.0</td>\n",
       "      <td>0.0</td>\n",
       "      <td>0.0</td>\n",
       "      <td>0.0</td>\n",
       "      <td>0.0</td>\n",
       "      <td>0.0</td>\n",
       "      <td>0.0</td>\n",
       "      <td>0.0</td>\n",
       "      <td>0.0</td>\n",
       "      <td>0.0</td>\n",
       "    </tr>\n",
       "    <tr>\n",
       "      <th>1786</th>\n",
       "      <td>0.0</td>\n",
       "      <td>0.000000</td>\n",
       "      <td>0.0</td>\n",
       "      <td>0.0</td>\n",
       "      <td>0.0</td>\n",
       "      <td>0.0</td>\n",
       "      <td>0.0</td>\n",
       "      <td>0.0</td>\n",
       "      <td>0.0</td>\n",
       "      <td>0.0</td>\n",
       "      <td>...</td>\n",
       "      <td>0.0</td>\n",
       "      <td>0.0</td>\n",
       "      <td>0.0</td>\n",
       "      <td>0.0</td>\n",
       "      <td>0.0</td>\n",
       "      <td>0.0</td>\n",
       "      <td>0.0</td>\n",
       "      <td>0.0</td>\n",
       "      <td>0.0</td>\n",
       "      <td>0.0</td>\n",
       "    </tr>\n",
       "  </tbody>\n",
       "</table>\n",
       "<p>1787 rows × 15196 columns</p>\n",
       "</div>"
      ],
      "text/plain": [
       "       80       amp   81  oldies  2nd  pfizerbiontech  covid19  vaccine  \\\n",
       "0     0.0  0.231087  0.0     0.0  0.0             0.0      0.0      0.0   \n",
       "1     0.0  0.000000  0.0     0.0  0.0             0.0      0.0      0.0   \n",
       "2     0.0  0.000000  0.0     0.0  0.0             0.0      0.0      0.0   \n",
       "3     0.0  0.000000  0.0     0.0  0.0             0.0      0.0      0.0   \n",
       "4     0.0  0.000000  0.0     0.0  0.0             0.0      0.0      0.0   \n",
       "...   ...       ...  ...     ...  ...             ...      ...      ...   \n",
       "1782  0.0  0.000000  0.0     0.0  0.0             0.0      0.0      0.0   \n",
       "1783  0.0  0.000000  0.0     0.0  0.0             0.0      0.0      0.0   \n",
       "1784  0.0  0.000000  0.0     0.0  0.0             0.0      0.0      0.0   \n",
       "1785  0.0  0.000000  0.0     0.0  0.0             0.0      0.0      0.0   \n",
       "1786  0.0  0.000000  0.0     0.0  0.0             0.0      0.0      0.0   \n",
       "\n",
       "      weekend  thanks  ...  sleepy  nightsh  2c5lqgydfe  helennewland  \\\n",
       "0         0.0     0.0  ...     0.0      0.0         0.0           0.0   \n",
       "1         0.0     0.0  ...     0.0      0.0         0.0           0.0   \n",
       "2         0.0     0.0  ...     0.0      0.0         0.0           0.0   \n",
       "3         0.0     0.0  ...     0.0      0.0         0.0           0.0   \n",
       "4         0.0     0.0  ...     0.0      0.0         0.0           0.0   \n",
       "...       ...     ...  ...     ...      ...         ...           ...   \n",
       "1782      0.0     0.0  ...     0.0      0.0         0.0           0.0   \n",
       "1783      0.0     0.0  ...     0.0      0.0         0.0           0.0   \n",
       "1784      0.0     0.0  ...     0.0      0.0         0.0           0.0   \n",
       "1785      0.0     0.0  ...     0.0      0.0         0.0           0.0   \n",
       "1786      0.0     0.0  ...     0.0      0.0         0.0           0.0   \n",
       "\n",
       "      rlepedvotj  diminish  9vb1k3vmtv  2scbz6xduw  vqyxdpr38z  l7usgbrxr3  \n",
       "0            0.0       0.0         0.0         0.0         0.0         0.0  \n",
       "1            0.0       0.0         0.0         0.0         0.0         0.0  \n",
       "2            0.0       0.0         0.0         0.0         0.0         0.0  \n",
       "3            0.0       0.0         0.0         0.0         0.0         0.0  \n",
       "4            0.0       0.0         0.0         0.0         0.0         0.0  \n",
       "...          ...       ...         ...         ...         ...         ...  \n",
       "1782         0.0       0.0         0.0         0.0         0.0         0.0  \n",
       "1783         0.0       0.0         0.0         0.0         0.0         0.0  \n",
       "1784         0.0       0.0         0.0         0.0         0.0         0.0  \n",
       "1785         0.0       0.0         0.0         0.0         0.0         0.0  \n",
       "1786         0.0       0.0         0.0         0.0         0.0         0.0  \n",
       "\n",
       "[1787 rows x 15196 columns]"
      ]
     },
     "execution_count": 14,
     "metadata": {},
     "output_type": "execute_result"
    }
   ],
   "source": [
    "tf_idf_test_df"
   ]
  },
  {
   "cell_type": "code",
   "execution_count": 15,
   "metadata": {},
   "outputs": [
    {
     "name": "stdout",
     "output_type": "stream",
     "text": [
      "{'whom', \"couldn't\", 'your', 'against', 'between', 'isn', \"aren't\", 'do', 'doing', 'before', \"you've\", 'doesn', 'into', 'nor', \"haven't\", 'm', 'through', 't', 'having', 'where', 'both', 'hasn', 're', 'then', 'an', 'himself', 'over', 'won', 'there', \"hasn't\", 'most', 'you', 'too', \"hadn't\", \"weren't\", \"that'll\", 'is', 'each', \"mustn't\", 'don', 'that', 'no', 'what', 'didn', 'does', 'yourselves', 'very', 'such', 'ma', 'up', 'me', 'being', 'hers', 'this', 'for', 'i', 'will', 'she', \"won't\", 'who', 'off', \"wasn't\", 'all', 'if', \"you'd\", \"it's\", \"you'll\", 'so', 'when', 'by', 'have', 'can', 'again', 'just', 'it', \"isn't\", \"shan't\", 'a', 'aren', 'yourself', 'out', 'until', 'at', 'theirs', 'some', 'o', 'our', 'couldn', \"wouldn't\", 'y', 'more', 'to', 'themselves', 'am', 'll', 'these', 'of', 'has', 'be', 'shan', 'my', 'on', 'once', 'not', 'further', 'itself', 'but', 'or', 'its', 'how', \"didn't\", 'under', 'and', 'with', \"you're\", 'any', 'they', 'myself', 'we', 'he', 'own', 'below', 'down', 've', 'same', 'did', 'because', 'his', 'while', 'are', 'above', \"doesn't\", 'which', \"shouldn't\", \"she's\", 'only', 'were', 'ain', 'hadn', \"mightn't\", 'wasn', 'as', 'needn', 'had', \"don't\", 'haven', 'yours', 'other', 'ours', 'than', 's', 'should', 'him', \"needn't\", 'mustn', 'was', 'now', 'ourselves', 'd', 'their', 'during', 'the', 'her', 'in', 'after', 'mightn', \"should've\", 'here', 'them', 'about', 'shouldn', 'from', 'why', 'weren', 'few', 'wouldn', 'those', 'herself', 'been'}\n"
     ]
    }
   ],
   "source": [
    "stop_words=set(stopwords.words(\"english\"))\n",
    "print(stop_words)"
   ]
  },
  {
   "cell_type": "code",
   "execution_count": 16,
   "metadata": {},
   "outputs": [],
   "source": [
    "tokenizer = RegexpTokenizer(r'[a-zA-Z0-9]+')\n",
    "\n",
    "## tokenized_review = tokenizer.tokenize(messages['text'])"
   ]
  },
  {
   "cell_type": "code",
   "execution_count": 17,
   "metadata": {},
   "outputs": [
    {
     "data": {
      "text/plain": [
       "RegexpTokenizer(pattern='[a-zA-Z0-9]+', gaps=False, discard_empty=True, flags=re.UNICODE|re.MULTILINE|re.DOTALL)"
      ]
     },
     "execution_count": 17,
     "metadata": {},
     "output_type": "execute_result"
    }
   ],
   "source": [
    "tokenizer"
   ]
  },
  {
   "cell_type": "code",
   "execution_count": 18,
   "metadata": {},
   "outputs": [],
   "source": [
    "review = \"Hi what is up\""
   ]
  },
  {
   "cell_type": "code",
   "execution_count": 19,
   "metadata": {},
   "outputs": [
    {
     "data": {
      "text/plain": [
       "'Hi what is up'"
      ]
     },
     "execution_count": 19,
     "metadata": {},
     "output_type": "execute_result"
    }
   ],
   "source": [
    "review"
   ]
  },
  {
   "cell_type": "code",
   "execution_count": 28,
   "metadata": {},
   "outputs": [
    {
     "data": {
      "text/plain": [
       "'Same folks said daikon paste could treat a cytokine storm #PfizerBioNTech https://t.co/xeHhIMg1kF'"
      ]
     },
     "execution_count": 28,
     "metadata": {},
     "output_type": "execute_result"
    }
   ],
   "source": [
    "messages['RX'][0]"
   ]
  },
  {
   "cell_type": "code",
   "execution_count": 29,
   "metadata": {},
   "outputs": [],
   "source": [
    "tokenized_review = tokenizer.tokenize(messages['RX'][0])"
   ]
  },
  {
   "cell_type": "code",
   "execution_count": 30,
   "metadata": {},
   "outputs": [
    {
     "name": "stdout",
     "output_type": "stream",
     "text": [
      "['Same', 'folks', 'said', 'daikon', 'paste', 'could', 'treat', 'a', 'cytokine', 'storm', 'PfizerBioNTech', 'https', 't', 'co', 'xeHhIMg1kF']\n"
     ]
    }
   ],
   "source": [
    "print(tokenized_review)"
   ]
  },
  {
   "cell_type": "code",
   "execution_count": 22,
   "metadata": {},
   "outputs": [
    {
     "data": {
      "text/html": [
       "<div>\n",
       "<style scoped>\n",
       "    .dataframe tbody tr th:only-of-type {\n",
       "        vertical-align: middle;\n",
       "    }\n",
       "\n",
       "    .dataframe tbody tr th {\n",
       "        vertical-align: top;\n",
       "    }\n",
       "\n",
       "    .dataframe thead th {\n",
       "        text-align: right;\n",
       "    }\n",
       "</style>\n",
       "<table border=\"1\" class=\"dataframe\">\n",
       "  <thead>\n",
       "    <tr style=\"text-align: right;\">\n",
       "      <th></th>\n",
       "      <th>user_verified</th>\n",
       "      <th>text</th>\n",
       "      <th>target</th>\n",
       "    </tr>\n",
       "  </thead>\n",
       "  <tbody>\n",
       "    <tr>\n",
       "      <th>0</th>\n",
       "      <td>False</td>\n",
       "      <td>Same folks said daikon paste could treat a cyt...</td>\n",
       "      <td>0</td>\n",
       "    </tr>\n",
       "    <tr>\n",
       "      <th>1</th>\n",
       "      <td>False</td>\n",
       "      <td>While the world has been on the wrong side of ...</td>\n",
       "      <td>0</td>\n",
       "    </tr>\n",
       "    <tr>\n",
       "      <th>2</th>\n",
       "      <td>False</td>\n",
       "      <td>#coronavirus #SputnikV #AstraZeneca #PfizerBio...</td>\n",
       "      <td>0</td>\n",
       "    </tr>\n",
       "    <tr>\n",
       "      <th>3</th>\n",
       "      <td>True</td>\n",
       "      <td>Facts are immutable, Senator, even when you're...</td>\n",
       "      <td>1</td>\n",
       "    </tr>\n",
       "    <tr>\n",
       "      <th>4</th>\n",
       "      <td>False</td>\n",
       "      <td>Explain to me again why we need a vaccine @Bor...</td>\n",
       "      <td>0</td>\n",
       "    </tr>\n",
       "    <tr>\n",
       "      <th>...</th>\n",
       "      <td>...</td>\n",
       "      <td>...</td>\n",
       "      <td>...</td>\n",
       "    </tr>\n",
       "    <tr>\n",
       "      <th>7140</th>\n",
       "      <td>False</td>\n",
       "      <td>The most recent vaccine data from Israel: #Pfi...</td>\n",
       "      <td>0</td>\n",
       "    </tr>\n",
       "    <tr>\n",
       "      <th>7141</th>\n",
       "      <td>False</td>\n",
       "      <td>So ist es‼️\\n#impfschaden #Impftote #PfizerBio...</td>\n",
       "      <td>0</td>\n",
       "    </tr>\n",
       "    <tr>\n",
       "      <th>7142</th>\n",
       "      <td>False</td>\n",
       "      <td>One shot down! #CovidVaccine #PfizerBioNTech h...</td>\n",
       "      <td>0</td>\n",
       "    </tr>\n",
       "    <tr>\n",
       "      <th>7143</th>\n",
       "      <td>False</td>\n",
       "      <td>Stopping #vaccine deliveries to #Azerbaijan is...</td>\n",
       "      <td>0</td>\n",
       "    </tr>\n",
       "    <tr>\n",
       "      <th>7144</th>\n",
       "      <td>False</td>\n",
       "      <td>#AstraZeneca is safe. Believe the statistics, ...</td>\n",
       "      <td>0</td>\n",
       "    </tr>\n",
       "  </tbody>\n",
       "</table>\n",
       "<p>7145 rows × 3 columns</p>\n",
       "</div>"
      ],
      "text/plain": [
       "      user_verified                                               text  target\n",
       "0             False  Same folks said daikon paste could treat a cyt...       0\n",
       "1             False  While the world has been on the wrong side of ...       0\n",
       "2             False  #coronavirus #SputnikV #AstraZeneca #PfizerBio...       0\n",
       "3              True  Facts are immutable, Senator, even when you're...       1\n",
       "4             False  Explain to me again why we need a vaccine @Bor...       0\n",
       "...             ...                                                ...     ...\n",
       "7140          False  The most recent vaccine data from Israel: #Pfi...       0\n",
       "7141          False  So ist es‼️\\n#impfschaden #Impftote #PfizerBio...       0\n",
       "7142          False  One shot down! #CovidVaccine #PfizerBioNTech h...       0\n",
       "7143          False  Stopping #vaccine deliveries to #Azerbaijan is...       0\n",
       "7144          False  #AstraZeneca is safe. Believe the statistics, ...       0\n",
       "\n",
       "[7145 rows x 3 columns]"
      ]
     },
     "execution_count": 22,
     "metadata": {},
     "output_type": "execute_result"
    }
   ],
   "source": [
    "messages"
   ]
  },
  {
   "cell_type": "code",
   "execution_count": 23,
   "metadata": {},
   "outputs": [],
   "source": [
    "messages['RX'] = messages['text']"
   ]
  },
  {
   "cell_type": "code",
   "execution_count": 24,
   "metadata": {},
   "outputs": [
    {
     "data": {
      "text/plain": [
       "7145"
      ]
     },
     "execution_count": 24,
     "metadata": {},
     "output_type": "execute_result"
    }
   ],
   "source": [
    "len(messages['text'])"
   ]
  },
  {
   "cell_type": "code",
   "execution_count": 31,
   "metadata": {},
   "outputs": [
    {
     "name": "stderr",
     "output_type": "stream",
     "text": [
      "<ipython-input-31-77317557d858>:2: SettingWithCopyWarning: \n",
      "A value is trying to be set on a copy of a slice from a DataFrame\n",
      "\n",
      "See the caveats in the documentation: https://pandas.pydata.org/pandas-docs/stable/user_guide/indexing.html#returning-a-view-versus-a-copy\n",
      "  messages['RX'][i] = tokenizer.tokenize(messages['text'][i])\n"
     ]
    }
   ],
   "source": [
    "for i in range(len(messages['text'])):\n",
    "    messages['RX'][i] = tokenizer.tokenize(messages['text'][i])"
   ]
  },
  {
   "cell_type": "code",
   "execution_count": 32,
   "metadata": {},
   "outputs": [
    {
     "data": {
      "text/html": [
       "<div>\n",
       "<style scoped>\n",
       "    .dataframe tbody tr th:only-of-type {\n",
       "        vertical-align: middle;\n",
       "    }\n",
       "\n",
       "    .dataframe tbody tr th {\n",
       "        vertical-align: top;\n",
       "    }\n",
       "\n",
       "    .dataframe thead th {\n",
       "        text-align: right;\n",
       "    }\n",
       "</style>\n",
       "<table border=\"1\" class=\"dataframe\">\n",
       "  <thead>\n",
       "    <tr style=\"text-align: right;\">\n",
       "      <th></th>\n",
       "      <th>user_verified</th>\n",
       "      <th>text</th>\n",
       "      <th>target</th>\n",
       "      <th>RX</th>\n",
       "    </tr>\n",
       "  </thead>\n",
       "  <tbody>\n",
       "    <tr>\n",
       "      <th>0</th>\n",
       "      <td>False</td>\n",
       "      <td>Same folks said daikon paste could treat a cyt...</td>\n",
       "      <td>0</td>\n",
       "      <td>[Same, folks, said, daikon, paste, could, trea...</td>\n",
       "    </tr>\n",
       "    <tr>\n",
       "      <th>1</th>\n",
       "      <td>False</td>\n",
       "      <td>While the world has been on the wrong side of ...</td>\n",
       "      <td>0</td>\n",
       "      <td>[While, the, world, has, been, on, the, wrong,...</td>\n",
       "    </tr>\n",
       "    <tr>\n",
       "      <th>2</th>\n",
       "      <td>False</td>\n",
       "      <td>#coronavirus #SputnikV #AstraZeneca #PfizerBio...</td>\n",
       "      <td>0</td>\n",
       "      <td>[coronavirus, SputnikV, AstraZeneca, PfizerBio...</td>\n",
       "    </tr>\n",
       "    <tr>\n",
       "      <th>3</th>\n",
       "      <td>True</td>\n",
       "      <td>Facts are immutable, Senator, even when you're...</td>\n",
       "      <td>1</td>\n",
       "      <td>[Facts, are, immutable, Senator, even, when, y...</td>\n",
       "    </tr>\n",
       "    <tr>\n",
       "      <th>4</th>\n",
       "      <td>False</td>\n",
       "      <td>Explain to me again why we need a vaccine @Bor...</td>\n",
       "      <td>0</td>\n",
       "      <td>[Explain, to, me, again, why, we, need, a, vac...</td>\n",
       "    </tr>\n",
       "    <tr>\n",
       "      <th>...</th>\n",
       "      <td>...</td>\n",
       "      <td>...</td>\n",
       "      <td>...</td>\n",
       "      <td>...</td>\n",
       "    </tr>\n",
       "    <tr>\n",
       "      <th>7140</th>\n",
       "      <td>False</td>\n",
       "      <td>The most recent vaccine data from Israel: #Pfi...</td>\n",
       "      <td>0</td>\n",
       "      <td>[The, most, recent, vaccine, data, from, Israe...</td>\n",
       "    </tr>\n",
       "    <tr>\n",
       "      <th>7141</th>\n",
       "      <td>False</td>\n",
       "      <td>So ist es‼️\\n#impfschaden #Impftote #PfizerBio...</td>\n",
       "      <td>0</td>\n",
       "      <td>[So, ist, es, impfschaden, Impftote, PfizerBio...</td>\n",
       "    </tr>\n",
       "    <tr>\n",
       "      <th>7142</th>\n",
       "      <td>False</td>\n",
       "      <td>One shot down! #CovidVaccine #PfizerBioNTech h...</td>\n",
       "      <td>0</td>\n",
       "      <td>[One, shot, down, CovidVaccine, PfizerBioNTech...</td>\n",
       "    </tr>\n",
       "    <tr>\n",
       "      <th>7143</th>\n",
       "      <td>False</td>\n",
       "      <td>Stopping #vaccine deliveries to #Azerbaijan is...</td>\n",
       "      <td>0</td>\n",
       "      <td>[Stopping, vaccine, deliveries, to, Azerbaijan...</td>\n",
       "    </tr>\n",
       "    <tr>\n",
       "      <th>7144</th>\n",
       "      <td>False</td>\n",
       "      <td>#AstraZeneca is safe. Believe the statistics, ...</td>\n",
       "      <td>0</td>\n",
       "      <td>[AstraZeneca, is, safe, Believe, the, statisti...</td>\n",
       "    </tr>\n",
       "  </tbody>\n",
       "</table>\n",
       "<p>7145 rows × 4 columns</p>\n",
       "</div>"
      ],
      "text/plain": [
       "      user_verified                                               text  \\\n",
       "0             False  Same folks said daikon paste could treat a cyt...   \n",
       "1             False  While the world has been on the wrong side of ...   \n",
       "2             False  #coronavirus #SputnikV #AstraZeneca #PfizerBio...   \n",
       "3              True  Facts are immutable, Senator, even when you're...   \n",
       "4             False  Explain to me again why we need a vaccine @Bor...   \n",
       "...             ...                                                ...   \n",
       "7140          False  The most recent vaccine data from Israel: #Pfi...   \n",
       "7141          False  So ist es‼️\\n#impfschaden #Impftote #PfizerBio...   \n",
       "7142          False  One shot down! #CovidVaccine #PfizerBioNTech h...   \n",
       "7143          False  Stopping #vaccine deliveries to #Azerbaijan is...   \n",
       "7144          False  #AstraZeneca is safe. Believe the statistics, ...   \n",
       "\n",
       "      target                                                 RX  \n",
       "0          0  [Same, folks, said, daikon, paste, could, trea...  \n",
       "1          0  [While, the, world, has, been, on, the, wrong,...  \n",
       "2          0  [coronavirus, SputnikV, AstraZeneca, PfizerBio...  \n",
       "3          1  [Facts, are, immutable, Senator, even, when, y...  \n",
       "4          0  [Explain, to, me, again, why, we, need, a, vac...  \n",
       "...      ...                                                ...  \n",
       "7140       0  [The, most, recent, vaccine, data, from, Israe...  \n",
       "7141       0  [So, ist, es, impfschaden, Impftote, PfizerBio...  \n",
       "7142       0  [One, shot, down, CovidVaccine, PfizerBioNTech...  \n",
       "7143       0  [Stopping, vaccine, deliveries, to, Azerbaijan...  \n",
       "7144       0  [AstraZeneca, is, safe, Believe, the, statisti...  \n",
       "\n",
       "[7145 rows x 4 columns]"
      ]
     },
     "execution_count": 32,
     "metadata": {},
     "output_type": "execute_result"
    }
   ],
   "source": [
    "messages"
   ]
  },
  {
   "cell_type": "code",
   "execution_count": 26,
   "metadata": {},
   "outputs": [
    {
     "ename": "SyntaxError",
     "evalue": "invalid syntax (<ipython-input-26-145a894578cc>, line 1)",
     "output_type": "error",
     "traceback": [
      "\u001b[0;36m  File \u001b[0;32m\"<ipython-input-26-145a894578cc>\"\u001b[0;36m, line \u001b[0;32m1\u001b[0m\n\u001b[0;31m    for\u001b[0m\n\u001b[0m        ^\u001b[0m\n\u001b[0;31mSyntaxError\u001b[0m\u001b[0;31m:\u001b[0m invalid syntax\n"
     ]
    }
   ],
   "source": [
    "for \n",
    "messages['RX'] = tokenizer.tokenize(messages['text'])"
   ]
  },
  {
   "cell_type": "code",
   "execution_count": null,
   "metadata": {},
   "outputs": [],
   "source": []
  }
 ],
 "metadata": {
  "kernelspec": {
   "display_name": "Python 3",
   "language": "python",
   "name": "python3"
  },
  "language_info": {
   "codemirror_mode": {
    "name": "ipython",
    "version": 3
   },
   "file_extension": ".py",
   "mimetype": "text/x-python",
   "name": "python",
   "nbconvert_exporter": "python",
   "pygments_lexer": "ipython3",
   "version": "3.8.5"
  }
 },
 "nbformat": 4,
 "nbformat_minor": 4
}
